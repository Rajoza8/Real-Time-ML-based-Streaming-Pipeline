{
 "cells": [
  {
   "cell_type": "code",
   "execution_count": null,
   "metadata": {},
   "outputs": [],
   "source": [
    "import csv\n",
    "import requests\n",
    "\n",
    "url = \"https://alpha-vantage.p.rapidapi.com/query\"\n",
    "\n",
    "querystring = {\"function\":\"TIME_SERIES_DAILY_ADJUSTED\",\"symbol\":\"aapl\",\"outputsize\":\"full\",\"datatype\":\"csv\"}\n",
    "\n",
    "headers = {\n",
    "\t\"content-type\": \"application/octet-stream\",\n",
    "\t\"X-RapidAPI-Key\": \"c292620961msh5c9150db0763cf2p184118jsn618fcd82d4a4\",\n",
    "\t\"X-RapidAPI-Host\": \"alpha-vantage.p.rapidapi.com\"\n",
    "}\n",
    "\n",
    "response = requests.get(url, headers=headers, params=querystring)\n",
    "\n",
    "# Decode the response content as utf-8 and split the lines\n",
    "lines = response.content.decode('utf-8').splitlines()\n",
    "\n",
    "# Create a new CSV file and write the lines to it\n",
    "with open('aapl.csv', 'w', newline='') as csvfile:\n",
    "    writer = csv.writer(csvfile)\n",
    "    for line in lines:\n",
    "        writer.writerow(line.split(','))\n",
    "\n",
    "print(\"Data written to CSV file!\")"
   ]
  }
 ],
 "metadata": {
  "language_info": {
   "name": "python"
  },
  "orig_nbformat": 4
 },
 "nbformat": 4,
 "nbformat_minor": 2
}
