{
 "cells": [
  {
   "cell_type": "code",
   "execution_count": 17,
   "id": "6d8c95f7-25e6-413a-b74c-9e81c7e79358",
   "metadata": {
    "tags": []
   },
   "outputs": [],
   "source": [
    "import pandas as pd"
   ]
  },
  {
   "cell_type": "code",
   "execution_count": 18,
   "id": "eecf8dad-f9da-4149-b2cf-f8dfe0b6147b",
   "metadata": {
    "tags": []
   },
   "outputs": [],
   "source": [
    "df = pd.read_csv(\"ibm.csv\")\n",
    "df[\"ticker\"] = \"IBM\"\n",
    "df.to_csv(\"new_ibm.csv\", index=False)"
   ]
  },
  {
   "cell_type": "code",
   "execution_count": 19,
   "id": "4d371bfa-be9c-4021-a659-ec2849539a6e",
   "metadata": {
    "tags": []
   },
   "outputs": [],
   "source": [
    "df = pd.read_csv(\"aapl.csv\")\n",
    "df[\"ticker\"] = \"AAPL\"\n",
    "df.to_csv(\"new_aapl.csv\", index=False)"
   ]
  },
  {
   "cell_type": "code",
   "execution_count": 20,
   "id": "bbccfafd-1bd8-4497-be86-0b67e0d667a6",
   "metadata": {
    "tags": []
   },
   "outputs": [],
   "source": [
    "df = pd.read_csv(\"tsla.csv\")\n",
    "df[\"ticker\"] = \"TSLA\"\n",
    "df.to_csv(\"new_tsla.csv\", index=False)"
   ]
  },
  {
   "cell_type": "code",
   "execution_count": 21,
   "id": "5081e33d-38bc-43a1-8943-920878b7e874",
   "metadata": {
    "tags": []
   },
   "outputs": [],
   "source": [
    "df = pd.read_csv(\"msft.csv\")\n",
    "df[\"ticker\"] = \"MSFT\"\n",
    "df.to_csv(\"new_msft.csv\", index=False)"
   ]
  },
  {
   "cell_type": "code",
   "execution_count": 22,
   "id": "bdae7117-a62c-479a-8573-54a812709485",
   "metadata": {
    "tags": []
   },
   "outputs": [],
   "source": [
    "df = pd.read_csv(\"meta.csv\")\n",
    "df[\"ticker\"] = \"META\"\n",
    "df.to_csv(\"new_meta.csv\", index=False)"
   ]
  },
  {
   "cell_type": "code",
   "execution_count": 23,
   "id": "78c20412-f03e-4430-bcb7-2ed0b0d5d65f",
   "metadata": {
    "tags": []
   },
   "outputs": [],
   "source": [
    "df = pd.read_csv(\"googl.csv\")\n",
    "df[\"ticker\"] = \"GOOGL\"\n",
    "df.to_csv(\"new_googl.csv\", index=False)"
   ]
  },
  {
   "cell_type": "code",
   "execution_count": 24,
   "id": "96750b9a-90c6-4404-9a05-bd63ff88db9a",
   "metadata": {
    "tags": []
   },
   "outputs": [],
   "source": [
    "#collecting..\n",
    "df = pd.DataFrame()\n",
    "for file_name in ['new_aapl.csv', 'new_tsla.csv', 'new_msft.csv', 'new_meta.csv', 'new_ibm.csv', 'new_googl.csv']:\n",
    "    temp_df = pd.read_csv(file_name)\n",
    "    df = pd.concat([df, temp_df], ignore_index=True)\n",
    "df.to_csv('combined_data.csv', index=False)"
   ]
  }
 ],
 "metadata": {
  "kernelspec": {
   "display_name": "Python 3 (ipykernel)",
   "language": "python",
   "name": "python3"
  },
  "language_info": {
   "codemirror_mode": {
    "name": "ipython",
    "version": 3
   },
   "file_extension": ".py",
   "mimetype": "text/x-python",
   "name": "python",
   "nbconvert_exporter": "python",
   "pygments_lexer": "ipython3",
   "version": "3.8.16"
  }
 },
 "nbformat": 4,
 "nbformat_minor": 5
}
